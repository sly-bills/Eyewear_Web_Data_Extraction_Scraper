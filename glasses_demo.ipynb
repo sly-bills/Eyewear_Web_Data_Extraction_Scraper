{
 "cells": [
  {
   "cell_type": "markdown",
   "id": "6cc21f71",
   "metadata": {},
   "source": [
    "# Importing Librariees and Webdrivers "
   ]
  },
  {
   "cell_type": "code",
   "execution_count": 1,
   "id": "508acceb",
   "metadata": {},
   "outputs": [],
   "source": [
    "# Libraries Used\n",
    "import csv\n",
    "import json\n",
    "from selenium import webdriver\n",
    "from selenium.webdriver.chrome.service import Service\n",
    "from selenium.webdriver.chrome.options import Options\n",
    "from selenium.webdriver.common.by import By\n",
    "from selenium.webdriver.support.ui import WebDriverWait as WDW\n",
    "from selenium.webdriver.support import expected_conditions as EC\n",
    "from webdriver_manager.chrome import ChromeDriverManager\n",
    "from bs4 import BeautifulSoup\n"
   ]
  },
  {
   "cell_type": "markdown",
   "id": "e0b83213",
   "metadata": {},
   "source": [
    "# Setup"
   ]
  },
  {
   "cell_type": "code",
   "execution_count": 2,
   "id": "1d49a269",
   "metadata": {},
   "outputs": [
    {
     "name": "stdout",
     "output_type": "stream",
     "text": [
      "Setting up the Web Driver...\n",
      "Done setting up..\n"
     ]
    }
   ],
   "source": [
    "# Step 1 - Configuration and Data Fetching\n",
    "# Setup Selenium and WebDriver\n",
    "print(\"Setting up the Web Driver...\")\n",
    "chrome_option = Options()\n",
    "chrome_option.add_argument('--headless')\n",
    "chrome_option.add_argument('--disable-gpu')\n",
    "chrome_option.add_argument(\n",
    "    \"user-agent=Mozilla/5.0 (Windows NT 10.0; Win64; x64) AppleWebKit/537.36 (KHTML, like Gecko) Chrome/131.0.6778.265 Safari/537.36\"\n",
    ")\n",
    "print(\"Done setting up..\")\n",
    "\n"
   ]
  },
  {
   "cell_type": "code",
   "execution_count": 3,
   "id": "258ba186",
   "metadata": {},
   "outputs": [
    {
     "name": "stdout",
     "output_type": "stream",
     "text": [
      "Installing Chrome WebDriver...\n",
      "final setup\n",
      "Done\n"
     ]
    }
   ],
   "source": [
    "# Install the chrome driver (This is a one-time setup)\n",
    "print(\"Installing Chrome WebDriver...\")\n",
    "service = Service(ChromeDriverManager().install())\n",
    "print(\"final setup\")\n",
    "driver = webdriver.Chrome(service=service, options=chrome_option)\n",
    "print(\"Done\")"
   ]
  },
  {
   "cell_type": "code",
   "execution_count": 4,
   "id": "73cb21d3",
   "metadata": {},
   "outputs": [
    {
     "name": "stdout",
     "output_type": "stream",
     "text": [
      "Visiting webpage: https://www.glasses.com/gl-us/eyeglasses\n",
      "Waiting for products to load...\n",
      "Done...Proceed to parse the data\n"
     ]
    }
   ],
   "source": [
    "# Make connection and get URL content\n",
    "target_url = \"https://www.glasses.com/gl-us/eyeglasses\"\n",
    "print(f\"Visiting webpage: {target_url}\")\n",
    "driver.get(target_url)\n",
    "\n",
    "# Further Instruction: Wait for JS to load the files. \n",
    "try:\n",
    "    print(\"Waiting for products to load...\")\n",
    "    WDW(driver, 15).until(\n",
    "        EC.presence_of_element_located((By.CLASS_NAME, 'catalog-page'))\n",
    "    )\n",
    "    print(\"Done...Proceed to parse the data\")\n",
    "except (TimeoutError, Exception) as e:\n",
    "    print(f\"Error, waiting for {target_url}: {e}\")\n",
    "    driver.quit()\n",
    "    print(\"closed\")"
   ]
  },
  {
   "cell_type": "code",
   "execution_count": 5,
   "id": "aa1520d2",
   "metadata": {},
   "outputs": [],
   "source": [
    "# Step 2 - Data Parsing and Extraction\n",
    "# Get page source and parse using BeautifulSoup\n",
    "content = driver.page_source\n",
    "page = BeautifulSoup(content, 'html.parser')"
   ]
  },
  {
   "cell_type": "code",
   "execution_count": null,
   "id": "e6ad1db0",
   "metadata": {},
   "outputs": [
    {
     "name": "stdout",
     "output_type": "stream",
     "text": [
      "Found 26 products\n",
      "Saved 26 records to CSV file\n",
      "Saved 26 records to JSON file\n",
      "End of Web Scraping\n"
     ]
    }
   ],
   "source": [
    "# Temporary storage for the extracted data\n",
    "glasses_data = []\n",
    "seen = set()  # to track duplicates\n",
    "\n",
    "# Locate all product files and extract the data for each product. \n",
    "product_tiles = page.find_all('a', class_='product-tile')\n",
    "print(f\"Found {len(product_tiles)} products\")\n",
    "\n",
    "for tile in product_tiles:\n",
    "    product_info = tile.find('div', class_='product-info')\n",
    "\n",
    "    if product_info:\n",
    "        brand_tag = product_info.find('div', class_='product-brand')\n",
    "        brand = brand_tag.text.strip() if brand_tag else 'None' # Product Brand\n",
    "\n",
    "        name_tag = product_info.find('div' , class_='product-code')\n",
    "        name = name_tag.text.strip() if name_tag else 'None' # Product Name\n",
    "\n",
    "        # For Book Status\n",
    "        badge_cnt = tile.find('div', class_='product-top')\n",
    "        if badge_cnt:\n",
    "            # Best Seller/New Arrival/Kids\n",
    "            first_status_tag = badge_cnt.find('div', class_='product-badge first-badge')\n",
    "            first_book_status = first_status_tag.text.strip() if first_status_tag else 'None'\n",
    "\n",
    "            # Sustainable/Universal Fit\n",
    "            second_status_tag = badge_cnt.find('div', class_='product-badge second-badge')\n",
    "            second_book_status = second_status_tag.text.strip() if second_status_tag else 'None'\n",
    "        else:\n",
    "            first_book_status = second_book_status = 'None'\n",
    "\n",
    "\n",
    "\n",
    "        # For Price\n",
    "        price_cnt = product_info.find('div', class_='product-prices')\n",
    "        if price_cnt:\n",
    "            # Former Price\n",
    "            former_price_tag = price_cnt.find('div', class_='product-list-price')\n",
    "            former_price = former_price_tag.text.strip() if former_price_tag else 'None'\n",
    "\n",
    "            # Current_price\n",
    "            current_price_tag = price_cnt.find('div', class_='product-offer-price')\n",
    "            current_price = current_price_tag.text.strip() if current_price_tag else 'None'\n",
    "        else:\n",
    "            former_price = current_price = 'None'\n",
    "    else:\n",
    "        brand = name = price = former_price = first_book_status = second_book_status = current_price = None\n",
    "\n",
    "        # Automatically applies missing value, if the product info is not available.\n",
    "\n",
    "    discount_tag = tile.find('div', class_='product-badge discount-badge thirty')\n",
    "    discount = discount_tag.text.strip() if discount_tag else 'None' \n",
    "\n",
    "    # Create unique key (Brand + Name)\n",
    "    unique_key = (brand, name) # Checks for duplicates\n",
    "\n",
    "    # Only save if not already seen\n",
    "    if unique_key not in seen:\n",
    "        seen.add(unique_key)  # mark as seen\n",
    "    data = {\n",
    "        'Brand': brand,\n",
    "        'Name': name,\n",
    "        'First Book Status': first_book_status,\n",
    "        'Second Book Status': second_book_status,\n",
    "        'Former Price': former_price,\n",
    "        'Current Price': current_price,\n",
    "        'Discount Percentage': discount\n",
    "    }\n",
    "\n",
    "    # Append data to the list\n",
    "    glasses_data.append(data)\n",
    "\n",
    "\n",
    "# Step 3 - Data Storage and Finalization\n",
    "# Save the data to a CSV file\n",
    "column_name = glasses_data[0].keys() # Get Column names from the first dictionary\n",
    "with open('glassesdotcom_data.csv', mode='w', newline='', encoding='utf-8') as csv_file: # Open up the file with context manager\n",
    "    dict_writer = csv.DictWriter(csv_file, fieldnames=column_name) # Create a DictWriter object\n",
    "    dict_writer.writeheader() # Write the header row\n",
    "    dict_writer.writerows(glasses_data) # Write all the data rows\n",
    "print (f\"Saved {len(glasses_data)} records to CSV file\")\n",
    "\n",
    "# Save the data to a JSON file\n",
    "with open(\"glassesdotcom.json\", mode='w') as json_file:\n",
    "    json.dump(glasses_data, json_file, indent=4)\n",
    "print(f\"Saved {len(glasses_data)} records to JSON file\")\n",
    "\n",
    "# Close the browser and quit the driver\n",
    "driver.quit()\n",
    "print(\"End of Web Scraping\")"
   ]
  }
 ],
 "metadata": {
  "kernelspec": {
   "display_name": "venv",
   "language": "python",
   "name": "python3"
  },
  "language_info": {
   "codemirror_mode": {
    "name": "ipython",
    "version": 3
   },
   "file_extension": ".py",
   "mimetype": "text/x-python",
   "name": "python",
   "nbconvert_exporter": "python",
   "pygments_lexer": "ipython3",
   "version": "3.13.7"
  }
 },
 "nbformat": 4,
 "nbformat_minor": 5
}
